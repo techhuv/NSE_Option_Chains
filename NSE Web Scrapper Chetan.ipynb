{
 "cells": [
  {
   "cell_type": "raw",
   "metadata": {},
   "source": [
    "Tasks\n",
    "\n",
    "1-) Nifty50 - current price is 14900 (then count strikes from 14400-15400) if price will be 13900 then it should count (13400-14400) similarly if it 15900 it should count strikes (15400-16400) like 500 up and 500 down all strikes. (and this value 500 must be a variable so i can change it later)\n",
    "\n",
    "2-) similarly in bank nifty 1000 up and 1000 down all strikes. ( and this value 1000 must be a variable so i can change it later)\n",
    "\n",
    "3-) stocks it should count 10% up and 10% down. ( and this value 10% must be a variable so i can change it later)\n",
    "\n",
    "CSV File with number of sheet for each strikes with below columns\n",
    "\n",
    "Date, Stock/Index, Expiry, RIGHT, Open Price, close Price, Current OI, Previous Minute OI, OI change, Percent Up/Down From Last Minute OI, RIGHT, Open Price, close Price, Current OI, Previous Minute OI, OI change, Percent Up/Down From Last Minute OI Nifty50, 20210527, CALL, 102.1, 90 (if not close yesterday keep0), 45555, 45000, +555, +7%, PUT, 52.8, 67 (if not close yesterday keep0), 35555, 35000, +555, +6%"
   ]
  },
  {
   "cell_type": "code",
   "execution_count": 2,
   "metadata": {},
   "outputs": [],
   "source": [
    "from selenium import webdriver\n",
    "import pandas as pd\n",
    "import numpy as np\n",
    "import time\n",
    "import os\n",
    "from openpyxl import load_workbook"
   ]
  },
  {
   "cell_type": "code",
   "execution_count": 3,
   "metadata": {},
   "outputs": [],
   "source": [
    "\n",
    "\n",
    "#https://stackoverflow.com/questions/38074678/append-existing-excel-sheet-with-new-dataframe-using-python-pandas\n",
    "\n",
    "def append_df_to_excel(filename, df, sheet_name='Sheet1', startrow=None,truncate_sheet=False, **to_excel_kwargs):\n",
    "    # Excel file doesn't exist - saving and exiting\n",
    "    if not os.path.isfile(filename):\n",
    "        df.to_excel(\n",
    "            filename,\n",
    "            sheet_name=sheet_name, \n",
    "            startrow=startrow if startrow is not None else 0, \n",
    "            **to_excel_kwargs)\n",
    "        return\n",
    "    \n",
    "    # ignore [engine] parameter if it was passed\n",
    "    if 'engine' in to_excel_kwargs:\n",
    "        to_excel_kwargs.pop('engine')\n",
    "\n",
    "    writer = pd.ExcelWriter(filename, engine='openpyxl', mode='a')\n",
    "\n",
    "    # try to open an existing workbook\n",
    "    writer.book = load_workbook(filename)\n",
    "    \n",
    "    # get the last row in the existing Excel sheet\n",
    "    # if it was not specified explicitly\n",
    "    if startrow is None and sheet_name in writer.book.sheetnames:\n",
    "        startrow = writer.book[sheet_name].max_row\n",
    "\n",
    "    # truncate sheet\n",
    "    if truncate_sheet and sheet_name in writer.book.sheetnames:\n",
    "        # index of [sheet_name] sheet\n",
    "        idx = writer.book.sheetnames.index(sheet_name)\n",
    "        # remove [sheet_name]\n",
    "        writer.book.remove(writer.book.worksheets[idx])\n",
    "        # create an empty sheet [sheet_name] using old index\n",
    "        writer.book.create_sheet(sheet_name, idx)\n",
    "    \n",
    "    # copy existing sheets\n",
    "    writer.sheets = {ws.title:ws for ws in writer.book.worksheets}\n",
    "\n",
    "    if startrow is None:\n",
    "        startrow = 0\n",
    "\n",
    "    # write out the new sheet\n",
    "    df.to_excel(writer, sheet_name, startrow=startrow, **to_excel_kwargs)\n",
    "\n",
    "    # save the workbook\n",
    "    writer.save()"
   ]
  },
  {
   "cell_type": "code",
   "execution_count": null,
   "metadata": {},
   "outputs": [],
   "source": []
  },
  {
   "cell_type": "code",
   "execution_count": null,
   "metadata": {},
   "outputs": [],
   "source": [
    "# import requests\n",
    "# choice='TCS'\n",
    "# # \"path\":f\"/api/option-chain-equities?symbol={choice}\"\n",
    "# while(True):\n",
    "#     headers = {\"User-Agent\":\"Mozilla/5.0 (Macintosh; Intel Mac OS X 10_14_5) AppleWebKit/605.1.15 (KHTML, like Gecko) Version/12.1.1 Safari/605.1.15\",\"Accept-Language\": \"en-gb\",\"Accept-Encoding\":\"gzip, deflate, br\",\"Accept\":\"test/html,application/xhtml+xml,application/xml;q=0.9,*/*;q=0.8\",\"Referer\":\"https://www.nseindia.com/option-chain\"}\n",
    "#     url = \"https://www.nseindia.com/api/option-chain-indices?symbol=BANKNIFTY\"\n",
    "#     page = requests.get(url,headers=headers)\n",
    "    \n",
    "#     if page.ok:\n",
    "#         break\n",
    "# page\n"
   ]
  },
  {
   "cell_type": "code",
   "execution_count": null,
   "metadata": {},
   "outputs": [],
   "source": []
  },
  {
   "cell_type": "code",
   "execution_count": 26,
   "metadata": {},
   "outputs": [
    {
     "data": {
      "text/plain": [
       "-45.36333524064495"
      ]
     },
     "execution_count": 26,
     "metadata": {},
     "output_type": "execute_result"
    }
   ],
   "source": [
    "import requests\n",
    "headers = {\n",
    "        'Connection': 'keep-alive',\n",
    "        'Cache-Control': 'max-age=0',\n",
    "        'DNT': '1',\n",
    "        'Upgrade-Insecure-Requests': '1',\n",
    "        'User-Agent': 'Mozilla/5.0 (Windows NT 10.0; Win64; x64) AppleWebKit/537.36 (KHTML, like Gecko) Chrome/79.0.3945.79 Safari/537.36',\n",
    "        'Sec-Fetch-User': '?1',\n",
    "        'Accept': 'text/html,application/xhtml+xml,application/xml;q=0.9,image/webp,image/apng,*/*;q=0.8,application/signed-exchange;v=b3;q=0.9',\n",
    "        'Sec-Fetch-Site': 'none',\n",
    "        'Sec-Fetch-Mode': 'navigate',\n",
    "        'Accept-Encoding': 'gzip, deflate, br',\n",
    "        'Accept-Language': 'en-US,en;q=0.9,hi;q=0.8',\n",
    "    }\n",
    "\n",
    "def nsefetch(payload):\n",
    "    try:\n",
    "        output = requests.get(payload,headers=headers).json()\n",
    "        print(output)\n",
    "    except ValueError:\n",
    "        s =requests.Session()\n",
    "        output = s.get(\"http://nseindia.com\",headers=headers)\n",
    "        output = s.get(payload,headers=headers).json()\n",
    "    return output\n",
    "\n",
    "res = nsefetch('https://www.nseindia.com/api/option-chain-equities?symbol=TCS')\n",
    "res = res['records']['data']\n",
    "res"
   ]
  },
  {
   "cell_type": "code",
   "execution_count": 6,
   "metadata": {},
   "outputs": [
    {
     "name": "stdout",
     "output_type": "stream",
     "text": [
      "Yes\n"
     ]
    }
   ],
   "source": [
    "if len(res)>0:\n",
    "    print('Yes')\n",
    "else:\n",
    "    print('no')"
   ]
  },
  {
   "cell_type": "code",
   "execution_count": 7,
   "metadata": {},
   "outputs": [
    {
     "data": {
      "text/plain": [
       "3115"
      ]
     },
     "execution_count": 7,
     "metadata": {},
     "output_type": "execute_result"
    }
   ],
   "source": [
    "underlying_value = int(res[0]['PE']['underlyingValue'])\n",
    "underlying_value"
   ]
  },
  {
   "cell_type": "code",
   "execution_count": 8,
   "metadata": {},
   "outputs": [],
   "source": [
    "nifty_margin = 500\n",
    "bank_nifty_margin = 1000\n",
    "stock_margin = 10"
   ]
  },
  {
   "cell_type": "code",
   "execution_count": 9,
   "metadata": {},
   "outputs": [],
   "source": [
    "col_list = ['strikePrice','expiryDate','openInterest']\n",
    "data_format = ['Date','Stock/Index','Expiry','Right','Current OI','Previous Minute OI','OI Change',\n",
    "               '% Up/Down from Last Minute OI','Right','Current OI','Previous Minute OI','OI Change',\n",
    "               '% Up/Down from Last Minute OI']\n",
    "base_df = pd.DataFrame(columns = data_format)\n",
    "# append_df_to_excel(\"master.xlsx\",base_df,sheet_name=str(i), index=False)"
   ]
  },
  {
   "cell_type": "code",
   "execution_count": 10,
   "metadata": {},
   "outputs": [],
   "source": [
    "selected_margin = nifty_margin"
   ]
  },
  {
   "cell_type": "code",
   "execution_count": 11,
   "metadata": {},
   "outputs": [],
   "source": [
    "# date = input(\"Enter date in format yyyy-mm-dd \")\n",
    "date = '2021-05-27'"
   ]
  },
  {
   "cell_type": "code",
   "execution_count": 54,
   "metadata": {},
   "outputs": [
    {
     "data": {
      "text/html": [
       "<div>\n",
       "<style scoped>\n",
       "    .dataframe tbody tr th:only-of-type {\n",
       "        vertical-align: middle;\n",
       "    }\n",
       "\n",
       "    .dataframe tbody tr th {\n",
       "        vertical-align: top;\n",
       "    }\n",
       "\n",
       "    .dataframe thead th {\n",
       "        text-align: right;\n",
       "    }\n",
       "</style>\n",
       "<table border=\"1\" class=\"dataframe\">\n",
       "  <thead>\n",
       "    <tr style=\"text-align: right;\">\n",
       "      <th></th>\n",
       "      <th>strikePrice</th>\n",
       "      <th>expiryDate</th>\n",
       "      <th>openInterest</th>\n",
       "    </tr>\n",
       "  </thead>\n",
       "  <tbody>\n",
       "    <tr>\n",
       "      <th>0</th>\n",
       "      <td>2400</td>\n",
       "      <td>2021-05-27</td>\n",
       "      <td>4</td>\n",
       "    </tr>\n",
       "    <tr>\n",
       "      <th>3</th>\n",
       "      <td>2500</td>\n",
       "      <td>2021-05-27</td>\n",
       "      <td>17</td>\n",
       "    </tr>\n",
       "    <tr>\n",
       "      <th>6</th>\n",
       "      <td>2600</td>\n",
       "      <td>2021-05-27</td>\n",
       "      <td>22</td>\n",
       "    </tr>\n",
       "    <tr>\n",
       "      <th>10</th>\n",
       "      <td>2650</td>\n",
       "      <td>2021-05-27</td>\n",
       "      <td>1</td>\n",
       "    </tr>\n",
       "    <tr>\n",
       "      <th>11</th>\n",
       "      <td>2700</td>\n",
       "      <td>2021-05-27</td>\n",
       "      <td>126</td>\n",
       "    </tr>\n",
       "    <tr>\n",
       "      <th>...</th>\n",
       "      <td>...</td>\n",
       "      <td>...</td>\n",
       "      <td>...</td>\n",
       "    </tr>\n",
       "    <tr>\n",
       "      <th>35</th>\n",
       "      <td>2950</td>\n",
       "      <td>2021-07-29</td>\n",
       "      <td>0</td>\n",
       "    </tr>\n",
       "    <tr>\n",
       "      <th>40</th>\n",
       "      <td>3000</td>\n",
       "      <td>2021-07-29</td>\n",
       "      <td>104</td>\n",
       "    </tr>\n",
       "    <tr>\n",
       "      <th>45</th>\n",
       "      <td>3050</td>\n",
       "      <td>2021-07-29</td>\n",
       "      <td>0</td>\n",
       "    </tr>\n",
       "    <tr>\n",
       "      <th>51</th>\n",
       "      <td>3100</td>\n",
       "      <td>2021-07-29</td>\n",
       "      <td>1</td>\n",
       "    </tr>\n",
       "    <tr>\n",
       "      <th>68</th>\n",
       "      <td>3300</td>\n",
       "      <td>2021-07-29</td>\n",
       "      <td>0</td>\n",
       "    </tr>\n",
       "  </tbody>\n",
       "</table>\n",
       "<p>111 rows × 3 columns</p>\n",
       "</div>"
      ],
      "text/plain": [
       "    strikePrice expiryDate  openInterest\n",
       "0          2400 2021-05-27             4\n",
       "3          2500 2021-05-27            17\n",
       "6          2600 2021-05-27            22\n",
       "10         2650 2021-05-27             1\n",
       "11         2700 2021-05-27           126\n",
       "..          ...        ...           ...\n",
       "35         2950 2021-07-29             0\n",
       "40         3000 2021-07-29           104\n",
       "45         3050 2021-07-29             0\n",
       "51         3100 2021-07-29             1\n",
       "68         3300 2021-07-29             0\n",
       "\n",
       "[111 rows x 3 columns]"
      ]
     },
     "execution_count": 54,
     "metadata": {},
     "output_type": "execute_result"
    }
   ],
   "source": [
    "data = [d.get('CE') for d in res]\n",
    "data_cleaned = list(filter(None, data))\n",
    "df_call = pd.DataFrame(data_cleaned)\n",
    "\n",
    "data = [d.get('PE') for d in res]\n",
    "data_cleaned = list(filter(None, data))\n",
    "df_put = pd.DataFrame(data_cleaned)\n",
    "\n",
    "df_put['expiryDate'] = pd.to_datetime(df_put['expiryDate'])\n",
    "df_call['expiryDate'] = pd.to_datetime(df_call['expiryDate'])\n",
    "\n",
    "\n",
    "df_put.sort_values(by=['expiryDate','strikePrice'],inplace=True)\n",
    "df_call.sort_values(by=['expiryDate','strikePrice'],inplace=True)\n",
    "\n",
    "# df_put['expiryDate'] = df_put['expiryDate'].dt.date\n",
    "# df_call['expiryDate'] = df_call['expiryDate'].dt.date\n",
    "\n",
    "df_put = df_put[col_list]\n",
    "df_call = df_call[col_list]\n",
    "# df_call\n",
    "df_put"
   ]
  },
  {
   "cell_type": "code",
   "execution_count": 63,
   "metadata": {},
   "outputs": [],
   "source": [
    "df_put = df_put[df_put['expiryDate'] == date]\n",
    "df_call = df_call[df_call['expiryDate'] == date]\n",
    "# df_put \n",
    "df_put['strikePrice'] = df_put['strikePrice'].map(int)\n",
    "df_call['strikePrice'] = df_call['strikePrice'].map(int)"
   ]
  },
  {
   "cell_type": "code",
   "execution_count": 56,
   "metadata": {},
   "outputs": [],
   "source": [
    "# print(res)"
   ]
  },
  {
   "cell_type": "code",
   "execution_count": 57,
   "metadata": {},
   "outputs": [],
   "source": [
    "# min, max = ((100-percentage)*0.01)*(df['underlyingValue'][0]), ((100+percentage)*0.01)*(df['underlyingValue'][0])\n",
    "# df_percent = df.loc[(df['strikePrice']>=min) & (df['strikePrice']<=max)]\n",
    "# df_percent"
   ]
  },
  {
   "cell_type": "code",
   "execution_count": 58,
   "metadata": {},
   "outputs": [
    {
     "data": {
      "text/plain": [
       "311.5"
      ]
     },
     "execution_count": 58,
     "metadata": {},
     "output_type": "execute_result"
    }
   ],
   "source": [
    "selected_margin = underlying_value*0.1\n",
    "selected_margin"
   ]
  },
  {
   "cell_type": "code",
   "execution_count": 59,
   "metadata": {},
   "outputs": [],
   "source": [
    "df_put = df_put[(df_put['strikePrice'] >= (underlying_value-selected_margin)) & (df_put['strikePrice'] <= (underlying_value+selected_margin))]\n",
    "df_call = df_call[(df_call['strikePrice'] >= underlying_value-selected_margin) & (df_call['strikePrice']<=underlying_value+selected_margin)]\n",
    "df_put['RIGHT'] = 'PUT'\n",
    "df_call['RIGHT'] = 'CALL'"
   ]
  },
  {
   "cell_type": "code",
   "execution_count": 60,
   "metadata": {},
   "outputs": [
    {
     "data": {
      "text/plain": [
       "2803.5"
      ]
     },
     "execution_count": 60,
     "metadata": {},
     "output_type": "execute_result"
    }
   ],
   "source": [
    "underlying_value-selected_margin"
   ]
  },
  {
   "cell_type": "code",
   "execution_count": 61,
   "metadata": {},
   "outputs": [],
   "source": [
    "max_sp = df_call.strikePrice.max()\n",
    "min_sp = df_call.strikePrice.min()"
   ]
  },
  {
   "cell_type": "code",
   "execution_count": 62,
   "metadata": {},
   "outputs": [
    {
     "data": {
      "text/plain": [
       "[2820,\n",
       " 2840,\n",
       " 2850,\n",
       " 2860,\n",
       " 2880,\n",
       " 2900,\n",
       " 2920,\n",
       " 2940,\n",
       " 2950,\n",
       " 2960,\n",
       " 2980,\n",
       " 3000,\n",
       " 3020,\n",
       " 3040,\n",
       " 3050,\n",
       " 3060,\n",
       " 3080,\n",
       " 3100,\n",
       " 3120,\n",
       " 3140,\n",
       " 3150,\n",
       " 3160,\n",
       " 3180,\n",
       " 3200,\n",
       " 3220,\n",
       " 3240,\n",
       " 3250,\n",
       " 3260,\n",
       " 3280,\n",
       " 3300,\n",
       " 3320,\n",
       " 3340,\n",
       " 3350,\n",
       " 3360,\n",
       " 3380,\n",
       " 3400,\n",
       " 3420]"
      ]
     },
     "execution_count": 62,
     "metadata": {},
     "output_type": "execute_result"
    }
   ],
   "source": [
    "sp_range = df_put.strikePrice.unique().tolist()\n",
    "sp_range"
   ]
  },
  {
   "cell_type": "code",
   "execution_count": 52,
   "metadata": {},
   "outputs": [],
   "source": [
    "for i in sp_range:\n",
    "    temp_df_put = df_put[df_put['strikePrice']==i]\n",
    "    temp_df_call = df_call[df_call['strikePrice']==i]"
   ]
  },
  {
   "cell_type": "code",
   "execution_count": 53,
   "metadata": {},
   "outputs": [
    {
     "data": {
      "text/html": [
       "<div>\n",
       "<style scoped>\n",
       "    .dataframe tbody tr th:only-of-type {\n",
       "        vertical-align: middle;\n",
       "    }\n",
       "\n",
       "    .dataframe tbody tr th {\n",
       "        vertical-align: top;\n",
       "    }\n",
       "\n",
       "    .dataframe thead th {\n",
       "        text-align: right;\n",
       "    }\n",
       "</style>\n",
       "<table border=\"1\" class=\"dataframe\">\n",
       "  <thead>\n",
       "    <tr style=\"text-align: right;\">\n",
       "      <th></th>\n",
       "      <th>expiryDate_x</th>\n",
       "      <th>openInterest_x</th>\n",
       "      <th>RIGHT_x</th>\n",
       "      <th>strikePrice</th>\n",
       "      <th>expiryDate_y</th>\n",
       "      <th>openInterest_y</th>\n",
       "      <th>RIGHT_y</th>\n",
       "    </tr>\n",
       "  </thead>\n",
       "  <tbody>\n",
       "  </tbody>\n",
       "</table>\n",
       "</div>"
      ],
      "text/plain": [
       "Empty DataFrame\n",
       "Columns: [expiryDate_x, openInterest_x, RIGHT_x, strikePrice, expiryDate_y, openInterest_y, RIGHT_y]\n",
       "Index: []"
      ]
     },
     "execution_count": 53,
     "metadata": {},
     "output_type": "execute_result"
    }
   ],
   "source": [
    "temp1 = df_call\n",
    "temp2 = df_put\n",
    "# Ispe bharosa mat karna\n",
    "temp2.merge(temp1,on='strikePrice')"
   ]
  },
  {
   "cell_type": "markdown",
   "metadata": {},
   "source": [
    "# Starting"
   ]
  },
  {
   "cell_type": "code",
   "execution_count": null,
   "metadata": {},
   "outputs": [],
   "source": [
    "# date = input(\"Enter date in format yyyy-mm-dd \")\n"
   ]
  },
  {
   "cell_type": "code",
   "execution_count": null,
   "metadata": {},
   "outputs": [],
   "source": [
    "df_put"
   ]
  },
  {
   "cell_type": "code",
   "execution_count": null,
   "metadata": {},
   "outputs": [],
   "source": [
    "df_call"
   ]
  },
  {
   "cell_type": "code",
   "execution_count": null,
   "metadata": {},
   "outputs": [],
   "source": []
  },
  {
   "cell_type": "code",
   "execution_count": null,
   "metadata": {},
   "outputs": [],
   "source": [
    "df = df_put.merge(df_call, on='strikePrice')\n",
    "# df['Time'] = ctime\n",
    "df"
   ]
  },
  {
   "cell_type": "code",
   "execution_count": null,
   "metadata": {},
   "outputs": [],
   "source": [
    "df['last_minute_OI_x'] = df['openInterest_x']\n",
    "df['last_minute_OI_y'] = df['openInterest_y']\n",
    "# df = df[['strikePrice','Time' ,'expiryDate_x', 'openInterest_x', 'last_minute_OI_x', 'RIGHT_x', 'openInterest_y', 'last_minute_OI_y', 'RIGHT_y']]\n",
    "# df"
   ]
  },
  {
   "cell_type": "markdown",
   "metadata": {},
   "source": [
    "# Keep this before"
   ]
  },
  {
   "cell_type": "code",
   "execution_count": null,
   "metadata": {},
   "outputs": [],
   "source": []
  },
  {
   "cell_type": "code",
   "execution_count": null,
   "metadata": {},
   "outputs": [],
   "source": [
    "import time\n",
    "for i in sp_range:\n",
    "    d = datetime.now().time()\n",
    "    df['Time'] = d.strftime('%H:%M')\n",
    "    append_df_to_excel(\"master.xlsx\",df,sheet_name=str(i),header=None, index=False)"
   ]
  },
  {
   "cell_type": "code",
   "execution_count": null,
   "metadata": {},
   "outputs": [],
   "source": [
    "# import pandas as pd\n",
    "# import xlsxwriter\n",
    "\n",
    "# df1 = pd.DataFrame({'Data': ['a', 'b', 'c', 'd']})\n",
    "\n",
    "# df2 = pd.DataFrame({'Data': [1, 2, 3, 4]})\n",
    "\n",
    "# df3 = pd.DataFrame({'Data': [1.1, 1.2, 1.3, 1.4]})\n",
    "\n",
    "# writer = pd.ExcelWriter('multiple.xlsx', engine='xlsxwriter')\n",
    "\n",
    "# df1.to_excel(writer, sheet_name='Sheet_1')\n",
    "\n",
    "# df2.to_excel(writer, sheet_name='Sheet_2')\n",
    "\n",
    "# df3.to_excel(writer, sheet_name='Sheet_3')\n",
    "\n",
    "# writer.save()"
   ]
  },
  {
   "cell_type": "markdown",
   "metadata": {},
   "source": [
    "# Initial Function - to be run once"
   ]
  },
  {
   "cell_type": "code",
   "execution_count": null,
   "metadata": {},
   "outputs": [],
   "source": [
    "from selenium import webdriver\n",
    "import pandas as pd\n",
    "import numpy as np\n",
    "import time\n",
    "import json\n",
    "\n",
    "\n",
    "import requests\n",
    "\n",
    "def main(time,previous_min_OI_x,previous_min_OI_y):\n",
    "   \n",
    "    while(True):\n",
    "        headers = {\"User-Agent\":\"Mozilla/5.0 (Macintosh; Intel Mac OS X 10_14_5) AppleWebKit/605.1.15 (KHTML, like Gecko) Version/12.1.1 Safari/605.1.15\",\"Accept-Language\": \"en-gb\",\"Accept-Encoding\":\"br, gzip, deflate\",\"Accept\":\"test/html,application/xhtml+xml,application/xml;q=0.9,*/*;q=0.8\",\"Referer\":\"http://www.google.com/\"}\n",
    "        url = \"https://www.nseindia.com/api/option-chain-indices?symbol=NIFTY\"\n",
    "        page = requests.get(url,headers=headers)\n",
    "\n",
    "        if page.ok:\n",
    "            break\n",
    "\n",
    "#     selected_margin = nifty_margin\n",
    "   \n",
    "    res = json.loads(page.text)['records']['data']\n",
    "    underlying_value = int(res[0]['PE']['underlyingValue'])\n",
    "\n",
    "    data = [d.get('CE') for d in res]\n",
    "    data_cleaned = list(filter(None, data))\n",
    "    df_call = pd.DataFrame(data_cleaned)\n",
    "\n",
    "    data = [d.get('PE') for d in res]\n",
    "    data_cleaned = list(filter(None, data))\n",
    "    df_put = pd.DataFrame(data_cleaned)\n",
    "\n",
    "    df_put['expiryDate'] = pd.to_datetime(df_put['expiryDate'])\n",
    "    df_call['expiryDate'] = pd.to_datetime(df_call['expiryDate'])\n",
    "\n",
    "\n",
    "    df_put.sort_values(by=['expiryDate','strikePrice'],inplace=True)\n",
    "    df_call.sort_values(by=['expiryDate','strikePrice'],inplace=True)\n",
    "    \n",
    "    col_list = ['strikePrice','expiryDate','openInterest']\n",
    "    df_put = df_put[col_list]\n",
    "    df_call = df_call[col_list]\n",
    "\n",
    "    df_put = df_put[df_put['expiryDate'] == date]\n",
    "    df_call = df_call[df_call['expiryDate'] == date]\n",
    "\n",
    "    df_put['strikePrice'] = df_put['strikePrice'].map(int)\n",
    "    df_call['strikePrice'] = df_call['strikePrice'].map(int)\n",
    "\n",
    "    df_put = df_put[(df_put['strikePrice'] >= underlying_value-selected_margin) & (df_put['strikePrice']<=underlying_value+selected_margin)]\n",
    "    df_call = df_call[(df_call['strikePrice'] >= underlying_value-selected_margin) & (df_call['strikePrice']<=underlying_value+selected_margin)]\n",
    "    df_put['RIGHT'] = 'PUT'\n",
    "    df_call['RIGHT'] = 'CALL'\n",
    "    df_merged = df_put.merge(df_call, on = 'strikePrice')\n",
    "    df_merged.insert(0, 'Time', time)\n",
    "    \n",
    "#     df_merged[]\n",
    "#     new_cols = ['Change_x', 'Percent_Change_x', 'Change_y', 'Percent_Change_y' ] \n",
    "#     df_merged[new_cols] = pd.DataFrame([[na.nan] * len(new_cols)], index=df.index)    \n",
    "\n",
    "    cols = ['strikePrice','Time','Stock/Index','expiryDate_x','RIGHT_x','openInterest_x','previous_min_OI_x','change_OI_x',\n",
    "                   '% Change_OI_x','RIGHT_y','openInterest_y','previous_min_OI_y','change_OI_y',\n",
    "                   '% Change_OI_y']\n",
    "    \n",
    "#     df['last'] = dict(zip(df.ID, df.B))\n",
    "#     print(df_merged.info())\n",
    "#     print(df_merged)\n",
    "#     df_merged.set_index('strikePrice',inplace=True)\n",
    "###########################################################################\n",
    "\n",
    "    # temp['Date'] = datetime.now().strftime('%Y%m%d')\n",
    "    df_merged['Stock/Index'] = res[0]['PE']['underlying']\n",
    "    df_merged['previous_min_OI_x'] = previous_min_OI_x\n",
    "    df_merged['previous_min_OI_y'] = previous_min_OI_y\n",
    "    df_merged['change_OI_x'] = df_merged['openInterest_x'] - df_merged['previous_min_OI_x']\n",
    "    df_merged['change_OI_y'] =  df_merged['openInterest_y'] - df_merged['previous_min_OI_y']\n",
    "    df_merged['% Change_OI_x'] = df_merged['change_OI_x']/df_merged['previous_min_OI_x'] * 100.0\n",
    "    df_merged['% Change_OI_y'] = df_merged['change_OI_y']/df_merged['previous_min_OI_y'] * 100.0\n",
    "    \n",
    "    previous_min_OI_x = df_merged['openInterest_x'].values.tolist()\n",
    "    previous_min_OI_y = df_merged['openInterest_y'].values.tolist()\n",
    "        \n",
    "#     df_merged = df_merged.style.format({'change_OI_x':\"{0:+g}\",'change_OI_y':\"{0:+g}\",'% Change_OI_x':\"{0:+g}\",'% Change_OI_y':\"{0:+g}\"})\n",
    "\n",
    "###########################################################################\n",
    "    \n",
    "    df_merged = df_merged[cols]\n",
    "    for i in sp_range:\n",
    "        grouped = df_merged.groupby(df_merged.strikePrice)\n",
    "        df_grouped = grouped.get_group(i)\n",
    "         \n",
    "        #added\n",
    "        del df_grouped['strikePrice']\n",
    "        \n",
    "#         print(df_grouped)\n",
    "        \n",
    "        append_df_to_excel(\"master.xlsx\",df_grouped,sheet_name=str(i), header=None, index=False)\n",
    "    \n",
    "    return previous_min_OI_x,previous_min_OI_y\n",
    "    \n",
    "    \n",
    "    "
   ]
  },
  {
   "cell_type": "code",
   "execution_count": null,
   "metadata": {},
   "outputs": [],
   "source": [
    "from datetime import datetime\n",
    "import pandas as pd\n",
    "import xlsxwriter\n",
    "\n",
    "nifty_margin = 500\n",
    "bank_nifty_margin = 1000\n",
    "stock_margin = 10\n",
    "date = '2021-05-27'\n",
    "selected_margin = nifty_margin\n",
    "\n",
    "\n",
    "while(True):\n",
    "        headers = {\"User-Agent\":\"Mozilla/5.0 (Macintosh; Intel Mac OS X 10_14_5) AppleWebKit/605.1.15 (KHTML, like Gecko) Version/12.1.1 Safari/605.1.15\",\"Accept-Language\": \"en-gb\",\"Accept-Encoding\":\"br, gzip, deflate\",\"Accept\":\"test/html,application/xhtml+xml,application/xml;q=0.9,*/*;q=0.8\",\"Referer\":\"http://www.google.com/\"}\n",
    "        url = \"https://www.nseindia.com/api/option-chain-indices?symbol=NIFTY\"\n",
    "        page = requests.get(url,headers=headers)\n",
    "\n",
    "        if page.ok:\n",
    "            break\n",
    "\n",
    "import json\n",
    "res = json.loads(page.text)['records']['data']\n",
    "underlying_value = int(res[0]['PE']['underlyingValue'])\n",
    "\n",
    "data = [d.get('PE') for d in res]\n",
    "data_cleaned = list(filter(None, data))\n",
    "df_put = pd.DataFrame(data_cleaned)\n",
    "df_put['expiryDate'] = pd.to_datetime(df_put['expiryDate'])\n",
    "df_put.sort_values(by=['expiryDate','strikePrice'],inplace=True)\n",
    "\n",
    "col_list = ['strikePrice','expiryDate','openInterest']\n",
    "\n",
    "df_put = df_put[col_list]\n",
    "\n",
    "df_put = df_put[df_put['expiryDate'] == date]\n",
    "\n",
    "df_put['strikePrice'] = df_put['strikePrice'].map(int)\n",
    "\n",
    "df_put = df_put[(df_put['strikePrice'] >= underlying_value-selected_margin) & (df_put['strikePrice']<=underlying_value+selected_margin)]\n",
    "\n",
    "sp_range = df_put.strikePrice.unique().tolist()  \n",
    "\n",
    "data_format = ['Time','Stock/Index','Expiry','Right','Current OI','Previous Minute OI','OI Change',\n",
    "               '% Up/Down from Last Minute OI','Right','Current OI','Previous Minute OI','OI Change',\n",
    "               '% Up/Down from Last Minute OI']\n",
    "\n",
    "base_df = pd.DataFrame(columns = data_format)\n",
    "\n",
    "    \n",
    "for i in sp_range:\n",
    "    append_df_to_excel(\"master.xlsx\",base_df,sheet_name=str(i), index=False, truncate_sheet = True)\n",
    "\n",
    "# To be kept as backup\n",
    "# global previous_min_OI_x = {i:0 for i in sp_range}\n",
    "# global previous_min_OI_y = {i:0 for i in sp_range}\n",
    "\n",
    "# global previous_min_OI_x \n",
    "previous_min_OI_x = [0 for i in sp_range]\n",
    "# global previous_min_OI_y\n",
    "previous_min_OI_y = [0 for i in sp_range]\n",
    "\n",
    "while(True):\n",
    "    now = datetime.now()\n",
    "    current_time = now.strftime(\"%H:%M\")\n",
    "    print(\"Current Time =\", current_time)\n",
    "    previous_min_OI_x , previous_min_OI_y = main(current_time,previous_min_OI_x,previous_min_OI_y)\n",
    "    time.sleep(60)"
   ]
  },
  {
   "cell_type": "raw",
   "metadata": {},
   "source": [
    "     Time            20 non-null     object        \n",
    " 1   strikePrice     20 non-null     int64    --------> remove \n",
    " 2   expiryDate_x    20 non-null     datetime64[ns]\n",
    " RIGHT_x\n",
    " 3   openInterest_x  20 non-null     int64 \n",
    " PREVIOUS\n",
    " CHANGE\n",
    " % Change\n",
    " \n",
    " 4   RIGHT_y         20 non-null     object        \n",
    " 5   expiryDate_y    20 non-null     datetime64[ns] --------> remove\n",
    " 6   openInterest_y  20 non-null     int64        \n",
    " PREVIOUS\n",
    " CHANGE\n",
    " %\n",
    "     \n",
    "new_cols = [\"Previous_min_OI_x\", \"Change_x',\"%_Change_x\",  \"Previous_min_OI_y\", \"Change_y', \"%_Change_y\" ] \n",
    "\n",
    "df[new_cols] = pd.DataFrame([[0] * len(new_cols)], index=df.index)    \n",
    "cols= ['Time','expiryDate_x','RIGHT','Current OI','Previous_min_OI_x','Change_x',\n",
    "               '%_Change_x','Right','Current OI','Previous_min_OI_y','Change_y',\n",
    "               '%_Change_y']\n",
    "df = df[col]\n",
    "    \n",
    "    \n",
    "'Time','Expiry','Right','Current OI','Previous Minute OI','OI Change',\n",
    "               '% Up/Down from Last Minute OI','Right','Current OI','Previous Minute OI','OI Change',\n",
    "               '% Up/Down from Last Minute OI'\n",
    "               \n",
    "               \n",
    "'Time','Date','Stock/Index','Expiry','Right','Current OI','Previous Minute OI','OI Change',\n",
    "               '% Up/Down from Last Minute OI','Right','Current OI','Previous Minute OI','OI Change',\n",
    "               '% Up/Down from Last Minute OI'"
   ]
  },
  {
   "cell_type": "markdown",
   "metadata": {},
   "source": [
    "# BAckup Codes for References"
   ]
  },
  {
   "cell_type": "code",
   "execution_count": null,
   "metadata": {},
   "outputs": [],
   "source": [
    "# global previous_min_OI_x = {i:np.nan for i in sp_range}\n",
    "# global previous_min_OI_y = {i:np.nan for i in sp_range}\n",
    "d = {el:np.nan for el in sp_range}\n",
    "l = [0 for i in sp_range]\n",
    "df"
   ]
  },
  {
   "cell_type": "code",
   "execution_count": null,
   "metadata": {},
   "outputs": [],
   "source": [
    "dict = {'c':'B','z':'4'}\n",
    "\n",
    "#mask those that are not NaN in `target_col`\n",
    "m=df.target_col.isna()\n",
    "df.loc[m,'target_col']=df.key_col.map(dict)"
   ]
  },
  {
   "cell_type": "code",
   "execution_count": null,
   "metadata": {},
   "outputs": [],
   "source": [
    "# import pandas as pd\n",
    "# import xlsxwriter\n",
    "\n",
    "# df1 = pd.DataFrame({'Data': ['a', 'b', 'c', 'd']})\n",
    "\n",
    "# df2 = pd.DataFrame({'Data': [1, 2, 3, 4]})\n",
    "\n",
    "# df3 = pd.DataFrame({'Data': [1.1, 1.2, 1.3, 1.4]})\n",
    "\n",
    "# writer = pd.ExcelWriter('multiple.xlsx', engine='xlsxwriter')\n",
    "\n",
    "# df1.to_excel(writer, sheet_name='Sheet_1')\n",
    "\n",
    "# df2.to_excel(writer, sheet_name='Sheet_2')\n",
    "\n",
    "# df3.to_excel(writer, sheet_name='Sheet_3')\n",
    "\n",
    "# writer.save()"
   ]
  },
  {
   "cell_type": "code",
   "execution_count": null,
   "metadata": {},
   "outputs": [],
   "source": [
    "# import pandas as pd\n",
    "\n",
    "# df1 = pd.DataFrame({'Data': ['a', 'b', 'c', 'd'], 'D': ['a', 'bb', 'c', 'dd']})\n",
    "\n",
    "# df2 = pd.DataFrame({'Data': [1, 2, 3, 4],  'D': ['a', 'bb', 'c', 'dd']})\n",
    "\n",
    "# c = pd.concat([df1, df2], axis=1)\n",
    "# c"
   ]
  },
  {
   "cell_type": "code",
   "execution_count": null,
   "metadata": {},
   "outputs": [],
   "source": [
    "data_format = ['Time','Date','Stock/Index','Expiry','Right','Current OI','Previous Minute OI','OI Change',\n",
    "               '% Up/Down from Last Minute OI','Right','Current OI','Previous Minute OI','OI Change',\n",
    "               '% Up/Down from Last Minute OI']\n",
    "base_df = pd.DataFrame(columns = data_format)\n"
   ]
  },
  {
   "cell_type": "code",
   "execution_count": null,
   "metadata": {},
   "outputs": [],
   "source": []
  },
  {
   "cell_type": "code",
   "execution_count": null,
   "metadata": {},
   "outputs": [],
   "source": [
    "from copy import copy\n",
    "temp = copy(df)\n",
    "temp"
   ]
  },
  {
   "cell_type": "code",
   "execution_count": null,
   "metadata": {},
   "outputs": [],
   "source": [
    "# temp.drop(['previous_min_OI_x','previous_min_OI_y','change_OI_x','change_OI_y','% Change_OI_x','% Change_OI_y'],axis=1,inplace=True)"
   ]
  },
  {
   "cell_type": "code",
   "execution_count": null,
   "metadata": {},
   "outputs": [],
   "source": [
    "# temp['Date'] = datetime.now().strftime('%Y%m%d')\n",
    "temp['Stock/Index'] = res[0]['PE']['underlying']\n",
    "temp['previous_min_OI_x'] = previous_min_OI_x\n",
    "temp['previous_min_OI_y'] = previous_min_OI_y\n",
    "temp['change_OI_x'] = temp['openInterest_x'] - temp['previous_min_OI_x']\n",
    "temp['change_OI_y'] =  temp['openInterest_y'] - temp['previous_min_OI_y']\n",
    "temp['% Change_OI_x'] = temp['change_OI_x']/temp['previous_min_OI_x'] * 100.0\n",
    "temp['% Change_OI_y'] = temp['change_OI_y']/temp['previous_min_OI_y'] * 100.0\n",
    "temp = temp.style.format({'change_OI_x':\"{0:+g}\",'change_OI_y':\"{0:+g}\",'% Change_OI_x':\"{0:+g}\",'% Change_OI_y':\"{0:+g}\"})"
   ]
  },
  {
   "cell_type": "code",
   "execution_count": null,
   "metadata": {},
   "outputs": [],
   "source": [
    "temp"
   ]
  },
  {
   "cell_type": "code",
   "execution_count": null,
   "metadata": {},
   "outputs": [],
   "source": [
    "previous_min_OI_x = temp['openInterest_x'].values.tolist()\n",
    "previous_min_OI_y = temp['openInterest_y'].values.tolist()"
   ]
  },
  {
   "cell_type": "code",
   "execution_count": null,
   "metadata": {},
   "outputs": [],
   "source": [
    "from datetime import datetime\n",
    "from time import time, sleep\n",
    "while True:\n",
    "    now = datetime.now()\n",
    "    current_time = now.strftime(\"%H:%M:%S\")\n",
    "    print(current_time)\n",
    "    sleep(60 - time() % 60)\n"
   ]
  },
  {
   "cell_type": "code",
   "execution_count": null,
   "metadata": {},
   "outputs": [],
   "source": [
    "# IMPT Piece of code ! Dont delete\n",
    "# df.style.format({'numbers':\"{0:+g}\"})"
   ]
  },
  {
   "cell_type": "code",
   "execution_count": null,
   "metadata": {},
   "outputs": [
    {
     "name": "stdout",
     "output_type": "stream",
     "text": [
      "16:35:34\n",
      "16:36:23\n"
     ]
    }
   ],
   "source": [
    "from time import time, sleep\n",
    "from datetime import datetime\n",
    "while(True):\n",
    "    now = datetime.now()\n",
    "    current_time = now.strftime(\"%H:%M:%S\")\n",
    "    print(current_time)\n",
    "    sleep(83 - time() % 60)"
   ]
  },
  {
   "cell_type": "code",
   "execution_count": null,
   "metadata": {},
   "outputs": [],
   "source": []
  }
 ],
 "metadata": {
  "kernelspec": {
   "display_name": "Python 3",
   "language": "python",
   "name": "python3"
  },
  "language_info": {
   "codemirror_mode": {
    "name": "ipython",
    "version": 3
   },
   "file_extension": ".py",
   "mimetype": "text/x-python",
   "name": "python",
   "nbconvert_exporter": "python",
   "pygments_lexer": "ipython3",
   "version": "3.8.5"
  }
 },
 "nbformat": 4,
 "nbformat_minor": 2
}
